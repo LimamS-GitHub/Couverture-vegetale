{
 "cells": [
  {
   "attachments": {},
   "cell_type": "markdown",
   "metadata": {},
   "source": [
    "# Récupération et affichage d'images optiques.\n",
    "\n",
    "Les images optiques sont créées par le capteur OCLI de Sentinel 3. Nous allons récupérer des images prétraitées par GLS sur l'ensemble du globe et extraire des zones géographiques qui nous intéressent.\n",
    "\n",
    "<mark>Pour que ce travail soit effectif il vous faudra au moins deux téléchargement de données FCOVER300 dans votre répertoire \"data/zones/_Earth/FCOVER\".</mark>\n",
    "\n",
    "_Version 1.3 [25/02/2023] Jérôme Lacaille_"
   ]
  },
  {
   "cell_type": "code",
   "execution_count": 1,
   "metadata": {},
   "outputs": [],
   "source": [
    "import os\n",
    "import numpy as np\n",
    "import pandas as pd\n",
    "import re\n",
    "\n",
    "import matplotlib.pyplot as plt\n",
    "%matplotlib inline\n",
    "\n",
    "# On élargit un peu les fenêtres d'affichage de matplotlib.\n",
    "plt.rcParams[\"figure.figsize\"] = (9,6)"
   ]
  },
  {
   "attachments": {},
   "cell_type": "markdown",
   "metadata": {},
   "source": [
    "On importe notre package et on s'assure qu'on peut le modifier de manière interactive."
   ]
  },
  {
   "cell_type": "code",
   "execution_count": 2,
   "metadata": {},
   "outputs": [],
   "source": [
    "import satellite as sat\n"
   ]
  },
  {
   "cell_type": "code",
   "execution_count": 3,
   "metadata": {},
   "outputs": [],
   "source": [
    "%reload_ext autoreload\n",
    "%autoreload 2"
   ]
  },
  {
   "attachments": {},
   "cell_type": "markdown",
   "metadata": {},
   "source": [
    "Juste pour s'assurer que tout va bien on charge une liste de zones. Vous pouvez regarder les zones que j'ai choisies, mais vous pouvez très bien,pour la suite utiliser des zones définies par vous-mêmes."
   ]
  },
  {
   "cell_type": "code",
   "execution_count": 4,
   "metadata": {},
   "outputs": [
    {
     "data": {
      "text/plain": [
       "{'name': 'Crete',\n",
       " 'bbox': [34.85709260445668,\n",
       "  23.397028867484522,\n",
       "  35.631415093017225,\n",
       "  26.44578481885614]}"
      ]
     },
     "execution_count": 4,
     "metadata": {},
     "output_type": "execute_result"
    }
   ],
   "source": [
    "gz = sat.GeoZone('map.geojson')\n",
    "zone = gz[2]\n",
    "zone"
   ]
  },
  {
   "attachments": {},
   "cell_type": "markdown",
   "metadata": {},
   "source": [
    "## 1. Compréhension du stockage des images.\n",
    "Dans les lignes suivantes nous allons charger des images \"netCDF\" et afficher leurs valeurs sur les zones géographiques qui nous intéressent."
   ]
  },
  {
   "attachments": {},
   "cell_type": "markdown",
   "metadata": {},
   "source": [
    "## 1.1 Détails des données disponibles.\n",
    "Créons une table contenant pour chaque ligne la date de création \"DATE\", le chemin du fichier \"FILE\" et le numéro de révision par GLS \"REVISION\"."
   ]
  },
  {
   "cell_type": "code",
   "execution_count": 5,
   "metadata": {},
   "outputs": [
    {
     "data": {
      "text/plain": [
       "'C:\\\\Users\\\\sophi\\\\Desktop\\\\MACS2\\\\Analyse_de_donnee\\\\satellite\\\\data/zones/_Earth/'"
      ]
     },
     "execution_count": 5,
     "metadata": {},
     "output_type": "execute_result"
    }
   ],
   "source": [
    "# On se souvient que le répertoire \"EARTHDIR\" contient les données de la terre.\n",
    "# Or nous avons stocké les images dans un sous répertoire FCOVER d ece chemin.\n",
    "sat.EARTHDIR"
   ]
  },
  {
   "cell_type": "code",
   "execution_count": 6,
   "metadata": {},
   "outputs": [
    {
     "data": {
      "text/plain": [
       "'C:\\\\Users\\\\sophi\\\\Desktop\\\\MACS2\\\\Analyse_de_donnee\\\\satellite\\\\data/zones/_Earth/FCOVER/'"
      ]
     },
     "execution_count": 6,
     "metadata": {},
     "output_type": "execute_result"
    }
   ],
   "source": [
    "rawdir = sat.EARTHDIR + \"FCOVER/\"\n",
    "rawdir"
   ]
  },
  {
   "attachments": {},
   "cell_type": "markdown",
   "metadata": {},
   "source": [
    "Récupérons la liste des fichiers .nc.\n",
    "J'utilise usuellement le module \"os\", mais vous pouvez aussi installer \"pathlib\".\n",
    "\n",
    "> [Documentation du module os](https://docs.python.org/fr/3/library/os.html)"
   ]
  },
  {
   "cell_type": "code",
   "execution_count": 7,
   "metadata": {},
   "outputs": [],
   "source": [
    "# Gestion des fichiers et dossiers.\n",
    "import os"
   ]
  },
  {
   "cell_type": "code",
   "execution_count": 8,
   "metadata": {},
   "outputs": [
    {
     "data": {
      "text/plain": [
       "['c_gls_FCOVER300-RT0_202401100000_GLOBE_OLCI_V1.1.2.nc',\n",
       " 'c_gls_FCOVER300-RT0_202401200000_GLOBE_OLCI_V1.1.2.nc',\n",
       " 'c_gls_FCOVER300-RT0_PROD-DESC_202401100000_GLOBE_OLCI_V1.1.2.xml',\n",
       " 'c_gls_FCOVER300-RT0_PROD-DESC_202401200000_GLOBE_OLCI_V1.1.2.xml',\n",
       " 'c_gls_FCOVER300-RT0_PROD-DESC_202401310000_GLOBE_OLCI_V1.1.2.xml',\n",
       " 'c_gls_FCOVER300-RT0_QL_202401100000_GLOBE_OLCI_V1.1.2.tiff',\n",
       " 'c_gls_FCOVER300-RT0_QL_202401200000_GLOBE_OLCI_V1.1.2.tiff',\n",
       " 'c_gls_FCOVER300-RT0_QL_202401310000_GLOBE_OLCI_V1.1.2.tiff',\n",
       " 'c_gls_FCOVER300-RT2_202312310000_GLOBE_OLCI_V1.1.2.nc',\n",
       " 'c_gls_FCOVER300-RT2_202401100000_GLOBE_OLCI_V1.1.2.nc',\n",
       " 'c_gls_FCOVER300-RT2_PROD-DESC_202312310000_GLOBE_OLCI_V1.1.2.xml',\n",
       " 'c_gls_FCOVER300-RT2_PROD-DESC_202401100000_GLOBE_OLCI_V1.1.2.xml',\n",
       " 'c_gls_FCOVER300-RT2_QL_202312310000_GLOBE_OLCI_V1.1.2.tiff',\n",
       " 'c_gls_FCOVER300-RT2_QL_202401100000_GLOBE_OLCI_V1.1.2.tiff',\n",
       " 'c_gls_FCOVER300-RT6_202311200000_GLOBE_OLCI_V1.1.2.nc',\n",
       " 'c_gls_FCOVER300-RT6_202311300000_GLOBE_OLCI_V1.1.2.nc',\n",
       " 'c_gls_FCOVER300-RT6_202312100000_GLOBE_OLCI_V1.1.2.nc',\n",
       " 'c_gls_FCOVER300-RT6_PROD-DESC_202311200000_GLOBE_OLCI_V1.1.2.xml',\n",
       " 'c_gls_FCOVER300-RT6_PROD-DESC_202311300000_GLOBE_OLCI_V1.1.2.xml',\n",
       " 'c_gls_FCOVER300-RT6_PROD-DESC_202312100000_GLOBE_OLCI_V1.1.2.xml',\n",
       " 'c_gls_FCOVER300-RT6_QL_202311200000_GLOBE_OLCI_V1.1.2.tiff',\n",
       " 'c_gls_FCOVER300-RT6_QL_202311300000_GLOBE_OLCI_V1.1.2.tiff',\n",
       " 'c_gls_FCOVER300-RT6_QL_202312100000_GLOBE_OLCI_V1.1.2.tiff',\n",
       " 'README.md']"
      ]
     },
     "execution_count": 8,
     "metadata": {},
     "output_type": "execute_result"
    }
   ],
   "source": [
    "# Les dossiers téléchargés.\n",
    "os.listdir(rawdir)"
   ]
  },
  {
   "attachments": {},
   "cell_type": "markdown",
   "metadata": {},
   "source": [
    "Parcourrez l'ensemble de ces dossiers pour ne lister que les fichiers netCDF.\n",
    "\n",
    "_Astuce : utilisez `os.walk` et `os.endwith`._"
   ]
  },
  {
   "cell_type": "code",
   "execution_count": 9,
   "metadata": {},
   "outputs": [
    {
     "data": {
      "text/plain": [
       "['c_gls_FCOVER300-RT0_202401100000_GLOBE_OLCI_V1.1.2.nc',\n",
       " 'c_gls_FCOVER300-RT0_202401200000_GLOBE_OLCI_V1.1.2.nc',\n",
       " 'c_gls_FCOVER300-RT2_202312310000_GLOBE_OLCI_V1.1.2.nc',\n",
       " 'c_gls_FCOVER300-RT2_202401100000_GLOBE_OLCI_V1.1.2.nc',\n",
       " 'c_gls_FCOVER300-RT6_202311200000_GLOBE_OLCI_V1.1.2.nc',\n",
       " 'c_gls_FCOVER300-RT6_202311300000_GLOBE_OLCI_V1.1.2.nc',\n",
       " 'c_gls_FCOVER300-RT6_202312100000_GLOBE_OLCI_V1.1.2.nc']"
      ]
     },
     "execution_count": 9,
     "metadata": {},
     "output_type": "execute_result"
    }
   ],
   "source": [
    "# Les fichiers .nc\n",
    "listfiles = []\n",
    "for froot,fdir,fnames in os.walk(rawdir):\n",
    "    for fname in fnames:\n",
    "        if fname.endswith('.nc'):\n",
    "            listfiles.append(fname)\n",
    "listfiles"
   ]
  },
  {
   "attachments": {},
   "cell_type": "markdown",
   "metadata": {},
   "source": [
    "Récupérez le dernier fichier.\n",
    "\n",
    "_Astuce : utilisez \"`_`\"._"
   ]
  },
  {
   "cell_type": "code",
   "execution_count": 10,
   "metadata": {},
   "outputs": [
    {
     "data": {
      "text/plain": [
       "'c_gls_FCOVER300-RT6_202312100000_GLOBE_OLCI_V1.1.2.nc'"
      ]
     },
     "execution_count": 10,
     "metadata": {},
     "output_type": "execute_result"
    }
   ],
   "source": [
    "# Petite astuce : _ correspond aux dernier résultat affiché.\n",
    "filename = _[-1]\n",
    "filename"
   ]
  },
  {
   "attachments": {},
   "cell_type": "markdown",
   "metadata": {},
   "source": [
    "#### Les expressions régulières\n",
    "\n",
    "On voudrait extraire la révision et la date du nom du fichier. beaucoup de données sont transmises sous une forme textuelle et il est habituel de passer beaucoup de temps à transformer ces données (_les encoder_) pour les rendre intelligibles par nos outils d'analyse. On utilise des outils de transformations, et parmi eux, la gestion d'expressions régulières est sans doute le plus fréquemment exploité.\n",
    "\n",
    "> [Documentation sur les experssions régulières](https://docs.python.org/fr/3/library/re.html)\n",
    "\n",
    "Dans notre exemple nous nous contentons d'un cas assez simple qui consiste à extraire et traduire des champs codés dans le nom des fichiers (un nombre et une date). Souvent il est plus malin de stocker  ces informations à l'intérieur du fichier sous la forme de méta données, par exemple dans une entête, mais c'est rarement le cas."
   ]
  },
  {
   "cell_type": "code",
   "execution_count": 11,
   "metadata": {},
   "outputs": [],
   "source": [
    "# Gestion des expressions régulières.\n",
    "import re"
   ]
  },
  {
   "attachments": {},
   "cell_type": "markdown",
   "metadata": {},
   "source": [
    "Notre recherche prend donc le nom du fichier en entrée et définit un pattern formé de deux _groupes_. Les groupes sont définis par des sous-patterns entre parenthèses (pour _échapper_ un caractère de contrôle comme une parenthèse par exemple il suffit de le précéder de la contre-oblique '\\', mais on n'en a pas besoin ici).\n",
    "\n",
    "<mark>Je vous laisse le code pour que vous ne perdiez pas trop de temps, mais vous devez expérimenter un peu par vous même.</mark>"
   ]
  },
  {
   "cell_type": "code",
   "execution_count": 12,
   "metadata": {},
   "outputs": [
    {
     "name": "stdout",
     "output_type": "stream",
     "text": [
      "Le nom du fichier : c_gls_FCOVER300-RT6_202312100000_GLOBE_OLCI_V1.1.2.nc\n",
      "m= <re.Match object; span=(16, 33), match='RT6_202312100000_'>\n",
      "Nombre de groupes : 2\n",
      "La chaine entière : RT6_202312100000_\n",
      "Le premier groupe : RT6\n",
      "Le second groupe  : 202312100000\n",
      "Tous les groupes  : ('RT6', '202312100000')\n"
     ]
    }
   ],
   "source": [
    "# Pour extraire la révision et la date on recherche un pattern RT0_YYYYMMDD0*_ avec un chiffre à la place du 0.\n",
    "print(\"Le nom du fichier :\", filename)\n",
    "\n",
    "# On lance la recherche du pattern contenant deux groupes.\n",
    "m = re.search('(RT[0-9])_([0-9]+)_',filename)\n",
    "\n",
    "print('m=',m)\n",
    "# On affiche le contenu du résultat (m).\n",
    "print(\"Nombre de groupes :\", m.lastindex)\n",
    "print(\"La chaine entière :\", m[0])\n",
    "print(\"Le premier groupe :\", m[1])\n",
    "print(\"Le second groupe  :\", m[2])\n",
    "print(\"Tous les groupes  :\", m.groups())"
   ]
  },
  {
   "attachments": {},
   "cell_type": "markdown",
   "metadata": {},
   "source": [
    "#### Format des dates.\n",
    "\n",
    "On veut le numéro de révision et une date Python.\n",
    "Pour la date je vous conseille `pd.to_datetime(chaine,format)` car on va créer une table pandas et que cette fonction admet des paramètres de format.\n",
    "\n",
    "La date peut être directement définie par pandas, mais vous pouvez aussi utiliser le module \"datetime\" de Python. Il définit des objets comme `datetime` et `timedelta` que l'on avait déjà vu alors que pandas produit des `Timestamp`.\n",
    "\n",
    "Ce n'est pas très génant en fait car quand on va insérer des `datetime` dans une table pandas il va les transformer automatiquement en `Timestamp`, et les manipulation de `Timestamp` sont prévues dans le package datetime."
   ]
  },
  {
   "cell_type": "code",
   "execution_count": 13,
   "metadata": {},
   "outputs": [],
   "source": [
    "from datetime import datetime"
   ]
  },
  {
   "cell_type": "code",
   "execution_count": 14,
   "metadata": {},
   "outputs": [
    {
     "data": {
      "text/plain": [
       "(6, datetime.datetime(2023, 12, 10, 0, 0), Timestamp('2023-12-10 00:00:00'))"
      ]
     },
     "execution_count": 14,
     "metadata": {},
     "output_type": "execute_result"
    }
   ],
   "source": [
    "revision = int(m[1][2])\n",
    "date = datetime.strptime(m[2],'%Y%m%d%H%M')\n",
    "date2 = pd.to_datetime(m[2],format='%Y%m%d%H%M')\n",
    "revision,date, date2"
   ]
  },
  {
   "attachments": {},
   "cell_type": "markdown",
   "metadata": {},
   "source": [
    "#### Créer la table en parcourant la liste des fichiers.\n",
    "\n",
    "* Attention, si deux fichiers sont datés du même jour, nous ne devons garder que celui qui a la révision la plus élevée.\n",
    "* Ne pas oublier de mettre le chemin complet en rajoutant le répertoire contenant le fichier.\n",
    "\n",
    "<mark>À vous de construire la table.</mark>"
   ]
  },
  {
   "cell_type": "code",
   "execution_count": 15,
   "metadata": {},
   "outputs": [
    {
     "name": "stdout",
     "output_type": "stream",
     "text": [
      "        DATE                                               FILE  REVISION\n",
      "0 2024-01-10  C:\\Users\\sophi\\Desktop\\MACS2\\Analyse_de_donnee...         2\n",
      "1 2024-01-20  C:\\Users\\sophi\\Desktop\\MACS2\\Analyse_de_donnee...         0\n",
      "2 2023-12-31  C:\\Users\\sophi\\Desktop\\MACS2\\Analyse_de_donnee...         2\n",
      "3 2023-11-20  C:\\Users\\sophi\\Desktop\\MACS2\\Analyse_de_donnee...         6\n",
      "4 2023-11-30  C:\\Users\\sophi\\Desktop\\MACS2\\Analyse_de_donnee...         6\n",
      "5 2023-12-10  C:\\Users\\sophi\\Desktop\\MACS2\\Analyse_de_donnee...         6\n"
     ]
    }
   ],
   "source": [
    "# On crée la table df contenant la liste des fichiers.\n",
    "N = []\n",
    "D = []\n",
    "RT = []\n",
    "for froot,fdir,fnames in os.walk(rawdir):\n",
    "    for filename in fnames:\n",
    "        if filename.endswith('.nc'):\n",
    "            m = re.search('(RT[0-9])_([0-9]+)_',filename) \n",
    "            rt = int(m[1][2])\n",
    "            d = pd.to_datetime (m[2],format = '%Y%m%d%H%M')\n",
    "            if d in D:\n",
    "                i = D.index(d)\n",
    "                if rt>RT[i]:\n",
    "                    D[i] = d\n",
    "                    RT[i] = rt\n",
    "                    N[i] = os.path.join(froot,filename)\n",
    "            else:\n",
    "                N.append(os.path.join(froot,filename))\n",
    "                D.append(d) \n",
    "                RT.append(rt) \n",
    "            \n",
    "\n",
    "df = pd.DataFrame({'DATE': D, 'FILE' : N, 'REVISION' : RT})\n",
    "print(df)"
   ]
  },
  {
   "cell_type": "code",
   "execution_count": 16,
   "metadata": {},
   "outputs": [
    {
     "data": {
      "text/plain": [
       "'C:\\\\Users\\\\sophi\\\\Desktop\\\\MACS2\\\\Analyse_de_donnee\\\\satellite\\\\data/zones/_Earth/FCOVER/c_gls_FCOVER300-RT0_202401200000_GLOBE_OLCI_V1.1.2.nc'"
      ]
     },
     "execution_count": 16,
     "metadata": {},
     "output_type": "execute_result"
    }
   ],
   "source": [
    "# Liste des fichiers disponibles.\n",
    "df['FILE'][1]"
   ]
  },
  {
   "cell_type": "markdown",
   "metadata": {},
   "source": [
    "Mettre la date en index et triez la table par date croissante."
   ]
  },
  {
   "cell_type": "code",
   "execution_count": 17,
   "metadata": {},
   "outputs": [
    {
     "data": {
      "text/html": [
       "<div>\n",
       "<style scoped>\n",
       "    .dataframe tbody tr th:only-of-type {\n",
       "        vertical-align: middle;\n",
       "    }\n",
       "\n",
       "    .dataframe tbody tr th {\n",
       "        vertical-align: top;\n",
       "    }\n",
       "\n",
       "    .dataframe thead th {\n",
       "        text-align: right;\n",
       "    }\n",
       "</style>\n",
       "<table border=\"1\" class=\"dataframe\">\n",
       "  <thead>\n",
       "    <tr style=\"text-align: right;\">\n",
       "      <th></th>\n",
       "      <th>FILE</th>\n",
       "      <th>REVISION</th>\n",
       "    </tr>\n",
       "    <tr>\n",
       "      <th>DATE</th>\n",
       "      <th></th>\n",
       "      <th></th>\n",
       "    </tr>\n",
       "  </thead>\n",
       "  <tbody>\n",
       "    <tr>\n",
       "      <th>2023-11-20</th>\n",
       "      <td>C:\\Users\\sophi\\Desktop\\MACS2\\Analyse_de_donnee...</td>\n",
       "      <td>6</td>\n",
       "    </tr>\n",
       "    <tr>\n",
       "      <th>2023-11-30</th>\n",
       "      <td>C:\\Users\\sophi\\Desktop\\MACS2\\Analyse_de_donnee...</td>\n",
       "      <td>6</td>\n",
       "    </tr>\n",
       "    <tr>\n",
       "      <th>2023-12-10</th>\n",
       "      <td>C:\\Users\\sophi\\Desktop\\MACS2\\Analyse_de_donnee...</td>\n",
       "      <td>6</td>\n",
       "    </tr>\n",
       "    <tr>\n",
       "      <th>2023-12-31</th>\n",
       "      <td>C:\\Users\\sophi\\Desktop\\MACS2\\Analyse_de_donnee...</td>\n",
       "      <td>2</td>\n",
       "    </tr>\n",
       "    <tr>\n",
       "      <th>2024-01-10</th>\n",
       "      <td>C:\\Users\\sophi\\Desktop\\MACS2\\Analyse_de_donnee...</td>\n",
       "      <td>2</td>\n",
       "    </tr>\n",
       "    <tr>\n",
       "      <th>2024-01-20</th>\n",
       "      <td>C:\\Users\\sophi\\Desktop\\MACS2\\Analyse_de_donnee...</td>\n",
       "      <td>0</td>\n",
       "    </tr>\n",
       "  </tbody>\n",
       "</table>\n",
       "</div>"
      ],
      "text/plain": [
       "                                                         FILE  REVISION\n",
       "DATE                                                                   \n",
       "2023-11-20  C:\\Users\\sophi\\Desktop\\MACS2\\Analyse_de_donnee...         6\n",
       "2023-11-30  C:\\Users\\sophi\\Desktop\\MACS2\\Analyse_de_donnee...         6\n",
       "2023-12-10  C:\\Users\\sophi\\Desktop\\MACS2\\Analyse_de_donnee...         6\n",
       "2023-12-31  C:\\Users\\sophi\\Desktop\\MACS2\\Analyse_de_donnee...         2\n",
       "2024-01-10  C:\\Users\\sophi\\Desktop\\MACS2\\Analyse_de_donnee...         2\n",
       "2024-01-20  C:\\Users\\sophi\\Desktop\\MACS2\\Analyse_de_donnee...         0"
      ]
     },
     "execution_count": 17,
     "metadata": {},
     "output_type": "execute_result"
    }
   ],
   "source": [
    "# On met la date en index.\n",
    "df.index = df['DATE']\n",
    "\n",
    "# Du coup on n'a plus besoin de la colonne correspondate.\n",
    "df.drop(columns=\"DATE\",inplace=True)\n",
    "\n",
    "# Finalement on trie la table.\n",
    "df.sort_index(inplace=True)\n",
    "df"
   ]
  },
  {
   "attachments": {},
   "cell_type": "markdown",
   "metadata": {},
   "source": [
    "## 1.2 Analyse du contenu d'un fichier.\n",
    "Les fichiers récupérés par GLS sont un peu différents des tables habituelles en analyse de données. On va en explorer le contenu, récupérer des informations sur une zone géographique et faire quelques calculs."
   ]
  },
  {
   "attachments": {},
   "cell_type": "markdown",
   "metadata": {},
   "source": [
    "Récupérons le premier fichier."
   ]
  },
  {
   "cell_type": "code",
   "execution_count": 18,
   "metadata": {},
   "outputs": [
    {
     "name": "stdout",
     "output_type": "stream",
     "text": [
      "C:\\Users\\sophi\\Desktop\\MACS2\\Analyse_de_donnee\\satellite\\data/zones/_Earth/FCOVER/c_gls_FCOVER300-RT6_202312100000_GLOBE_OLCI_V1.1.2.nc\n"
     ]
    }
   ],
   "source": [
    "img = 2\n",
    "fname = df.FILE[img]\n",
    "print(fname)"
   ]
  },
  {
   "attachments": {},
   "cell_type": "markdown",
   "metadata": {},
   "source": [
    "Les fichiers \".nc\" sont des fichiers netCDF qui nécessitent un package spécial pour les charger (netcdf4). Nous aurons besoins de l'objets `Dataset` qui contient l'image.\n",
    "\n",
    "> [netCDF (Network Comon Data Form)](https://fr.wikipedia.org/wiki/NetCDF)\n",
    "\n",
    "> [Documentation de netcdf4](https://unidata.github.io/netcdf4-python/#variables-in-a-netcdf-file)"
   ]
  },
  {
   "cell_type": "code",
   "execution_count": 19,
   "metadata": {},
   "outputs": [],
   "source": [
    "# Import spécifique à la gestion des images.\n",
    "\n",
    "from netCDF4 import Dataset"
   ]
  },
  {
   "attachments": {},
   "cell_type": "markdown",
   "metadata": {},
   "source": [
    "On affiche quelques éléments de compréhension...\n",
    "\n",
    "_Attention, ici on va garder la ressource `nc` ouverte pour se faciliter l'étude, mais en général on essayera plutôt d'encadrer la ressource d'un groupe `with` ou d'une reprise sur erreur._"
   ]
  },
  {
   "cell_type": "code",
   "execution_count": 20,
   "metadata": {},
   "outputs": [],
   "source": [
    "nc = Dataset(fname, 'r')"
   ]
  },
  {
   "cell_type": "code",
   "execution_count": 21,
   "metadata": {},
   "outputs": [
    {
     "name": "stdout",
     "output_type": "stream",
     "text": [
      "Dimensions:\n",
      " {'lon': <class 'netCDF4._netCDF4.Dimension'>: name = 'lon', size = 120960, 'lat': <class 'netCDF4._netCDF4.Dimension'>: name = 'lat', size = 47040, 'time': <class 'netCDF4._netCDF4.Dimension'> (unlimited): name = 'time', size = 1}\n",
      "Variables:\n",
      " dict_keys(['FCOVER', 'LENGTH_AFTER', 'LENGTH_BEFORE', 'NOBS', 'QFLAG', 'RMSE', 'crs', 'lat', 'lon', 'time'])\n",
      "FCOVER dimensions: ('time', 'lat', 'lon')\n",
      "lat dimension: ('lat',)\n",
      "<class 'netCDF4._netCDF4.Dataset'>\n"
     ]
    },
    {
     "data": {
      "text/plain": [
       "masked_array(\n",
       "  data=[[--, --, --],\n",
       "        [--, --, --],\n",
       "        [--, --, --]],\n",
       "  mask=[[ True,  True,  True],\n",
       "        [ True,  True,  True],\n",
       "        [ True,  True,  True]],\n",
       "  fill_value=255,\n",
       "  dtype=float64)"
      ]
     },
     "execution_count": 21,
     "metadata": {},
     "output_type": "execute_result"
    }
   ],
   "source": [
    "print(\"Dimensions:\\n\", nc.dimensions)\n",
    "print(\"Variables:\\n\", nc.variables.keys())\n",
    "print(\"FCOVER dimensions:\", nc.variables['FCOVER'].dimensions)\n",
    "print(\"lat dimension:\",nc.variables['lat'].dimensions)\n",
    "print(type(nc))\n",
    "fcover = nc.variables['FCOVER'][0,0:3,0:3]\n",
    "fcover"
   ]
  },
  {
   "cell_type": "code",
   "execution_count": 22,
   "metadata": {},
   "outputs": [
    {
     "data": {
      "text/plain": [
       "('time', 'lat', 'lon')"
      ]
     },
     "execution_count": 22,
     "metadata": {},
     "output_type": "execute_result"
    }
   ],
   "source": [
    "nc.variables['FCOVER'].dimensions"
   ]
  },
  {
   "cell_type": "code",
   "execution_count": 23,
   "metadata": {},
   "outputs": [
    {
     "data": {
      "text/plain": [
       "('time',)"
      ]
     },
     "execution_count": 23,
     "metadata": {},
     "output_type": "execute_result"
    }
   ],
   "source": [
    "nc.variables['time'].dimensions"
   ]
  },
  {
   "attachments": {},
   "cell_type": "markdown",
   "metadata": {},
   "source": [
    "L'ordre des variables dans la dimension correspond à celui d'une image, donc la première dimension et Y et pas X."
   ]
  },
  {
   "cell_type": "code",
   "execution_count": 24,
   "metadata": {},
   "outputs": [
    {
     "data": {
      "text/plain": [
       "('T', 'Y', 'X')"
      ]
     },
     "execution_count": 24,
     "metadata": {},
     "output_type": "execute_result"
    }
   ],
   "source": [
    "(nc.variables['time'].axis,nc.variables['lat'].axis, nc.variables['lon'].axis)"
   ]
  },
  {
   "attachments": {},
   "cell_type": "markdown",
   "metadata": {},
   "source": [
    "Une chance ! Les unités correspondent bien à ce dont on a l'habitude."
   ]
  },
  {
   "cell_type": "code",
   "execution_count": 25,
   "metadata": {},
   "outputs": [
    {
     "data": {
      "text/plain": [
       "('days since 1970-01-01 00:00:00', 'degrees_east', 'degrees_north')"
      ]
     },
     "execution_count": 25,
     "metadata": {},
     "output_type": "execute_result"
    }
   ],
   "source": [
    "(nc.variables['time'].units, nc.variables['lon'].units,nc.variables['lat'].units)"
   ]
  },
  {
   "attachments": {},
   "cell_type": "markdown",
   "metadata": {},
   "source": [
    "Affichez le détail de la variable FCOVER."
   ]
  },
  {
   "cell_type": "code",
   "execution_count": 26,
   "metadata": {},
   "outputs": [
    {
     "data": {
      "text/plain": [
       "<class 'netCDF4._netCDF4.Variable'>\n",
       "uint8 FCOVER(time, lat, lon)\n",
       "    _FillValue: 255\n",
       "    standard_name: vegetation_area_fraction\n",
       "    long_name: Fraction of green Vegetation Cover 333m\n",
       "    grid_mapping: crs\n",
       "    scale_factor: 0.004\n",
       "    add_offset: 0.0\n",
       "    units: \n",
       "    valid_range: [  0 250]\n",
       "    missing_value: 255\n",
       "unlimited dimensions: time\n",
       "current shape = (1, 47040, 120960)\n",
       "filling on"
      ]
     },
     "execution_count": 26,
     "metadata": {},
     "output_type": "execute_result"
    }
   ],
   "source": [
    "nc.variables['FCOVER'] "
   ]
  },
  {
   "attachments": {},
   "cell_type": "markdown",
   "metadata": {},
   "source": [
    "Maintenant on va extraire la partie de l'image correspondant à notre zone.\n",
    "\n",
    "_Notez que si une instruction Python renvoie un objet qui est itérable (une liste par exemple) vous pouvez directement déployer les premiers éléments dans des variables individuelles._"
   ]
  },
  {
   "cell_type": "code",
   "execution_count": 27,
   "metadata": {},
   "outputs": [],
   "source": [
    "lat0,lon0,lat1,lon1 = zone['bbox']"
   ]
  },
  {
   "cell_type": "code",
   "execution_count": 28,
   "metadata": {},
   "outputs": [
    {
     "data": {
      "text/plain": [
       "(34.85709260445668, 23.397028867484522, 35.631415093017225, 26.44578481885614)"
      ]
     },
     "execution_count": 28,
     "metadata": {},
     "output_type": "execute_result"
    }
   ],
   "source": [
    "lat0,lon0,lat1,lon1"
   ]
  },
  {
   "cell_type": "code",
   "execution_count": 29,
   "metadata": {},
   "outputs": [
    {
     "data": {
      "text/plain": [
       "array([ 80.        ,  79.99702381,  79.99404762, ..., -59.99107143,\n",
       "       -59.99404762, -59.99702381])"
      ]
     },
     "execution_count": 29,
     "metadata": {},
     "output_type": "execute_result"
    }
   ],
   "source": [
    "# Les latitudes et longitudes sont jamais masquées, on peu récupérer les valeurs directement. Comme ce sont des dimensions, elles sont scalaires.\n",
    "lon = nc.variables['lon'][:].data\n",
    "lat = nc.variables['lat'][:].data\n",
    "lat"
   ]
  },
  {
   "attachments": {},
   "cell_type": "markdown",
   "metadata": {},
   "source": [
    "En utilisant un \"et\" logique `np.logical_and` récupérez le contenu de notre zone d'intérêt."
   ]
  },
  {
   "cell_type": "code",
   "execution_count": 30,
   "metadata": {},
   "outputs": [
    {
     "data": {
      "text/plain": [
       "masked_array(\n",
       "  data=[[--, --, --, ..., --, --, --],\n",
       "        [--, --, --, ..., --, --, --],\n",
       "        [--, --, --, ..., --, --, --],\n",
       "        ...,\n",
       "        [--, --, --, ..., --, --, --],\n",
       "        [--, --, --, ..., --, --, --],\n",
       "        [--, --, --, ..., --, --, --]],\n",
       "  mask=[[ True,  True,  True, ...,  True,  True,  True],\n",
       "        [ True,  True,  True, ...,  True,  True,  True],\n",
       "        [ True,  True,  True, ...,  True,  True,  True],\n",
       "        ...,\n",
       "        [ True,  True,  True, ...,  True,  True,  True],\n",
       "        [ True,  True,  True, ...,  True,  True,  True],\n",
       "        [ True,  True,  True, ...,  True,  True,  True]],\n",
       "  fill_value=255)"
      ]
     },
     "execution_count": 30,
     "metadata": {},
     "output_type": "execute_result"
    }
   ],
   "source": [
    "bx = np.logical_and(lon0<=lon, lon<=lon1)\n",
    "by = np.logical_and(lat0<=lat, lat<=lat1)\n",
    "fc = nc.variables['FCOVER'][0,by,bx]\n",
    "fc"
   ]
  },
  {
   "attachments": {},
   "cell_type": "markdown",
   "metadata": {},
   "source": [
    "Remplacez les valeurs masquées par des `np.nan` et affichez l'image avec `plt.imshow()`."
   ]
  },
  {
   "cell_type": "code",
   "execution_count": 31,
   "metadata": {},
   "outputs": [
    {
     "data": {
      "text/plain": [
       "array([[nan, nan, nan, ..., nan, nan, nan],\n",
       "       [nan, nan, nan, ..., nan, nan, nan],\n",
       "       [nan, nan, nan, ..., nan, nan, nan],\n",
       "       ...,\n",
       "       [nan, nan, nan, ..., nan, nan, nan],\n",
       "       [nan, nan, nan, ..., nan, nan, nan],\n",
       "       [nan, nan, nan, ..., nan, nan, nan]])"
      ]
     },
     "execution_count": 31,
     "metadata": {},
     "output_type": "execute_result"
    }
   ],
   "source": [
    "F = fc.data\n",
    "F[fc.mask] = np.nan\n",
    "F"
   ]
  },
  {
   "attachments": {},
   "cell_type": "markdown",
   "metadata": {},
   "source": [
    "Maintenant on peut afficher l'image."
   ]
  },
  {
   "cell_type": "code",
   "execution_count": 32,
   "metadata": {},
   "outputs": [
    {
     "data": {
      "text/plain": [
       "Text(0.5, 1.0, 'Crete [FCOVER] le 10/12/2023')"
      ]
     },
     "execution_count": 32,
     "metadata": {},
     "output_type": "execute_result"
    },
    {
     "data": {
      "image/png": "[encoded data removed]",
      "text/plain": [
       "<Figure size 900x600 with 1 Axes>"
      ]
     },
     "metadata": {},
     "output_type": "display_data"
    }
   ],
   "source": [
    "plt.imshow(F)\n",
    "plt.title(zone['name'] + \" [FCOVER] le \" + df.index[img].strftime('%d/%m/%Y'))"
   ]
  },
  {
   "attachments": {},
   "cell_type": "markdown",
   "metadata": {},
   "source": [
    "<mark>N'oubliez pas de fermer la ressource.</mark>"
   ]
  },
  {
   "cell_type": "code",
   "execution_count": 33,
   "metadata": {},
   "outputs": [],
   "source": [
    "# Fermeture de la ressource.\n",
    "nc.close()"
   ]
  },
  {
   "attachments": {},
   "cell_type": "markdown",
   "metadata": {},
   "source": [
    "## 2. Affichage interactif.\n",
    "\n",
    "Nous allons essayer de construire un affichage permettant de changer interactivement la zone affichée."
   ]
  },
  {
   "attachments": {},
   "cell_type": "markdown",
   "metadata": {},
   "source": [
    "### 2.1 Accès par le nom de la zone.\n",
    "\n",
    "Nous aimerions pouvoir sélectionner la zone à afficher à partir de son nom.\n",
    "Pour cela nous allons rajouter une méthode `bboxbyname` à l'objet GeoZone pour récupérer la bbox depuis le nom."
   ]
  },
  {
   "attachments": {},
   "cell_type": "markdown",
   "metadata": {},
   "source": [
    "Commençons comme d'habitude par tester une telle méthode sur le notebook. \n",
    "\n",
    "<mark>Complétez cette fonction pour qu'elle se comporte comme attendu dans les deux cellules suivantes.</mark>"
   ]
  },
  {
   "cell_type": "code",
   "execution_count": 34,
   "metadata": {},
   "outputs": [],
   "source": [
    "def bboxbyname(self, name):\n",
    "    \"\"\" BBOXBYNAME - Récupération des coordonnées à partir du nom.\n",
    "    \"\"\"\n",
    "    for z in self.Z:\n",
    "        if z['name'] == name:\n",
    "            return z['bbox']\n",
    "    raise sat.geozone.GeofileException(f\"La zone {name} n'existe pas.\")"
   ]
  },
  {
   "cell_type": "code",
   "execution_count": 35,
   "metadata": {},
   "outputs": [
    {
     "data": {
      "text/plain": [
       "[41.22007856049126, 1.6649881237897546, 41.63394152808198, 2.4690345841926273]"
      ]
     },
     "execution_count": 35,
     "metadata": {},
     "output_type": "execute_result"
    }
   ],
   "source": [
    "bboxbyname(gz,'Barcelone')"
   ]
  },
  {
   "attachments": {},
   "cell_type": "markdown",
   "metadata": {},
   "source": [
    "### 2.2 Ajout de la fonction à l'objet.\n",
    "\n",
    "Cette fois, plus besoin de passer l'objet en argument, il arrive avant l'appel de la fonction.\n",
    "Pensez à l'aide et à la gestion des erreurs.\n",
    "\n",
    "<mark>Vous devez rajouter la méthode à l'objet `GeoZone` de votre module geozone.py.</mark>"
   ]
  },
  {
   "cell_type": "code",
   "execution_count": 36,
   "metadata": {},
   "outputs": [
    {
     "name": "stdout",
     "output_type": "stream",
     "text": [
      " BBOXBYNAME - Récupération des coordonnées à partir du nom.\n",
      "        \n"
     ]
    }
   ],
   "source": [
    "print(gz.bboxbyname.__doc__)"
   ]
  },
  {
   "cell_type": "code",
   "execution_count": 37,
   "metadata": {},
   "outputs": [
    {
     "data": {
      "text/plain": [
       "[41.22007856049126, 1.6649881237897546, 41.63394152808198, 2.4690345841926273]"
      ]
     },
     "execution_count": 37,
     "metadata": {},
     "output_type": "execute_result"
    }
   ],
   "source": [
    "gz.bboxbyname('Barcelone')"
   ]
  },
  {
   "attachments": {},
   "cell_type": "markdown",
   "metadata": {},
   "source": [
    "On montre ici qu'on peut intercepter une exception et l'imprimer.\n",
    "La fonction `__repr__` de l'exception ValueError affiche le message passé en argument, pour les autres composants, il suffit d'appeler les différents champs.\n",
    "\n",
    "<mark>Votre code dans geozone.py doit gérer les exceptions.</mark>"
   ]
  },
  {
   "cell_type": "code",
   "execution_count": 38,
   "metadata": {},
   "outputs": [
    {
     "name": "stdout",
     "output_type": "stream",
     "text": [
      "<class 'satellite.geozone.GeofileException'> La zone ZoneInconnue n'existe pas.\n",
      " Exception raised when geofile is bad.\n"
     ]
    }
   ],
   "source": [
    "try:\n",
    "    gz.bboxbyname(\"ZoneInconnue\")\n",
    "except sat.geozone.GeofileException as e:\n",
    "    print(e.__class__, e)\n",
    "    print(e.__doc__)"
   ]
  },
  {
   "attachments": {},
   "cell_type": "markdown",
   "metadata": {},
   "source": [
    "### 2.3 Récupération d'un fichier à partir d'une date.\n",
    "\n",
    "Pour accéder à l'image à charger on veut pouvoir se contenter de choisir une date. Si possible on aimerait afficher cette date comme en français en jour-mois-année."
   ]
  },
  {
   "cell_type": "code",
   "execution_count": 39,
   "metadata": {},
   "outputs": [
    {
     "data": {
      "text/html": [
       "<div>\n",
       "<style scoped>\n",
       "    .dataframe tbody tr th:only-of-type {\n",
       "        vertical-align: middle;\n",
       "    }\n",
       "\n",
       "    .dataframe tbody tr th {\n",
       "        vertical-align: top;\n",
       "    }\n",
       "\n",
       "    .dataframe thead th {\n",
       "        text-align: right;\n",
       "    }\n",
       "</style>\n",
       "<table border=\"1\" class=\"dataframe\">\n",
       "  <thead>\n",
       "    <tr style=\"text-align: right;\">\n",
       "      <th></th>\n",
       "      <th>FILE</th>\n",
       "      <th>REVISION</th>\n",
       "    </tr>\n",
       "    <tr>\n",
       "      <th>DATE</th>\n",
       "      <th></th>\n",
       "      <th></th>\n",
       "    </tr>\n",
       "  </thead>\n",
       "  <tbody>\n",
       "    <tr>\n",
       "      <th>2023-11-20</th>\n",
       "      <td>C:\\Users\\sophi\\Desktop\\MACS2\\Analyse_de_donnee...</td>\n",
       "      <td>6</td>\n",
       "    </tr>\n",
       "    <tr>\n",
       "      <th>2023-11-30</th>\n",
       "      <td>C:\\Users\\sophi\\Desktop\\MACS2\\Analyse_de_donnee...</td>\n",
       "      <td>6</td>\n",
       "    </tr>\n",
       "    <tr>\n",
       "      <th>2023-12-10</th>\n",
       "      <td>C:\\Users\\sophi\\Desktop\\MACS2\\Analyse_de_donnee...</td>\n",
       "      <td>6</td>\n",
       "    </tr>\n",
       "    <tr>\n",
       "      <th>2023-12-31</th>\n",
       "      <td>C:\\Users\\sophi\\Desktop\\MACS2\\Analyse_de_donnee...</td>\n",
       "      <td>2</td>\n",
       "    </tr>\n",
       "    <tr>\n",
       "      <th>2024-01-10</th>\n",
       "      <td>C:\\Users\\sophi\\Desktop\\MACS2\\Analyse_de_donnee...</td>\n",
       "      <td>2</td>\n",
       "    </tr>\n",
       "    <tr>\n",
       "      <th>2024-01-20</th>\n",
       "      <td>C:\\Users\\sophi\\Desktop\\MACS2\\Analyse_de_donnee...</td>\n",
       "      <td>0</td>\n",
       "    </tr>\n",
       "  </tbody>\n",
       "</table>\n",
       "</div>"
      ],
      "text/plain": [
       "                                                         FILE  REVISION\n",
       "DATE                                                                   \n",
       "2023-11-20  C:\\Users\\sophi\\Desktop\\MACS2\\Analyse_de_donnee...         6\n",
       "2023-11-30  C:\\Users\\sophi\\Desktop\\MACS2\\Analyse_de_donnee...         6\n",
       "2023-12-10  C:\\Users\\sophi\\Desktop\\MACS2\\Analyse_de_donnee...         6\n",
       "2023-12-31  C:\\Users\\sophi\\Desktop\\MACS2\\Analyse_de_donnee...         2\n",
       "2024-01-10  C:\\Users\\sophi\\Desktop\\MACS2\\Analyse_de_donnee...         2\n",
       "2024-01-20  C:\\Users\\sophi\\Desktop\\MACS2\\Analyse_de_donnee...         0"
      ]
     },
     "execution_count": 39,
     "metadata": {},
     "output_type": "execute_result"
    }
   ],
   "source": [
    "# Rappel : on a la liste des fichiers sous forme de table.\n",
    "df"
   ]
  },
  {
   "cell_type": "code",
   "execution_count": 40,
   "metadata": {},
   "outputs": [
    {
     "data": {
      "text/plain": [
       "DatetimeIndex(['2023-11-20', '2023-11-30', '2023-12-10', '2023-12-31',\n",
       "               '2024-01-10', '2024-01-20'],\n",
       "              dtype='datetime64[ns]', name='DATE', freq=None)"
      ]
     },
     "execution_count": 40,
     "metadata": {},
     "output_type": "execute_result"
    }
   ],
   "source": [
    "# On a les dates.\n",
    "df.index"
   ]
  },
  {
   "cell_type": "code",
   "execution_count": 41,
   "metadata": {},
   "outputs": [
    {
     "name": "stdout",
     "output_type": "stream",
     "text": [
      "Date initiale : 2023-11-20 00:00:00\n",
      "Date formatée : 20-11-2023\n"
     ]
    }
   ],
   "source": [
    "# On veut récupérer les dates au bon format.\n",
    "d0 = df.index[0]\n",
    "print(\"Date initiale :\", d0)\n",
    "print(\"Date formatée :\", d0.strftime('%d-%m-%Y'))"
   ]
  },
  {
   "attachments": {},
   "cell_type": "markdown",
   "metadata": {},
   "source": [
    "On peut finalement créer la liste des dates."
   ]
  },
  {
   "cell_type": "code",
   "execution_count": 42,
   "metadata": {},
   "outputs": [
    {
     "data": {
      "text/plain": [
       "['20-11-2023',\n",
       " '30-11-2023',\n",
       " '10-12-2023',\n",
       " '31-12-2023',\n",
       " '10-01-2024',\n",
       " '20-01-2024']"
      ]
     },
     "execution_count": 42,
     "metadata": {},
     "output_type": "execute_result"
    }
   ],
   "source": [
    "datelist = [d.strftime('%d-%m-%Y') for d in df.index]\n",
    "datelist"
   ]
  },
  {
   "attachments": {},
   "cell_type": "markdown",
   "metadata": {},
   "source": [
    "Il va aussi falloir pouvoir retrouver le chemin du fichier à partir de la date.\n",
    "\n",
    "<mark>Ecrivez une fonction qui fait cela.</mark>\n",
    "\n",
    "_Astuce : utilisez la méthode `index` d'une liste._"
   ]
  },
  {
   "cell_type": "code",
   "execution_count": 43,
   "metadata": {},
   "outputs": [],
   "source": [
    "def ncfilebydate(df, date):\n",
    "    for d in df.index:\n",
    "        if d.strftime('%d-%m-%Y') == date:\n",
    "            i = datelist.index(date)\n",
    "    return df.FILE[i]"
   ]
  },
  {
   "cell_type": "code",
   "execution_count": 44,
   "metadata": {},
   "outputs": [
    {
     "data": {
      "text/plain": [
       "'C:\\\\Users\\\\sophi\\\\Desktop\\\\MACS2\\\\Analyse_de_donnee\\\\satellite\\\\data/zones/_Earth/FCOVER/c_gls_FCOVER300-RT6_202311200000_GLOBE_OLCI_V1.1.2.nc'"
      ]
     },
     "execution_count": 44,
     "metadata": {},
     "output_type": "execute_result"
    }
   ],
   "source": [
    "ncfilebydate(df,datelist[0])"
   ]
  },
  {
   "cell_type": "code",
   "execution_count": 45,
   "metadata": {},
   "outputs": [
    {
     "data": {
      "text/plain": [
       "'C:\\\\Users\\\\sophi\\\\Desktop\\\\MACS2\\\\Analyse_de_donnee\\\\satellite\\\\data/zones/_Earth/FCOVER/c_gls_FCOVER300-RT2_202312310000_GLOBE_OLCI_V1.1.2.nc'"
      ]
     },
     "execution_count": 45,
     "metadata": {},
     "output_type": "execute_result"
    }
   ],
   "source": [
    "ncfilebydate(df,'31-12-2023')"
   ]
  },
  {
   "attachments": {},
   "cell_type": "markdown",
   "metadata": {},
   "source": [
    "### 2.4 Récupération des données de l'image.\n",
    "\n",
    "Dans cette section on va reprendre le code que l'on a vu précédemment pour récupérer les données de l'image FCOVER d'une zone sous la forme d'un tableau numpy."
   ]
  },
  {
   "cell_type": "code",
   "execution_count": 46,
   "metadata": {},
   "outputs": [
    {
     "data": {
      "text/plain": [
       "['Ile de France', 'Barcelone', 'Crete', 'Moyen Atlas']"
      ]
     },
     "execution_count": 46,
     "metadata": {},
     "output_type": "execute_result"
    }
   ],
   "source": [
    "# On récupère la liste des noms.\n",
    "names = [z['name'] for z in gz]\n",
    "names"
   ]
  },
  {
   "attachments": {},
   "cell_type": "markdown",
   "metadata": {},
   "source": [
    "On commence par créer une fonction qui récupère l'image.\n",
    "\n",
    "<mark>Complétez cette fonction avec ce que l'on a appris plus haut.</mark>"
   ]
  },
  {
   "cell_type": "code",
   "execution_count": 47,
   "metadata": {},
   "outputs": [],
   "source": [
    "def nczimage(date,name):\n",
    "    lat0,lon0,lat1,lon1 = gz.bboxbyname(name)\n",
    "    fname = ncfilebydate(df,date)\n",
    "    \n",
    "    with Dataset(fname, 'r') as nc:\n",
    "        # Cacul des coordonnées utiles.\n",
    "        lon = nc.variables['lon'][:].data\n",
    "        lat = nc.variables['lat'][:].data\n",
    "\n",
    "        # Extraction des données FCOVER.\n",
    "        bx = np.logical_and(lon0<=lon, lon<=lon1)\n",
    "        by = np.logical_and(lat0<=lat, lat<=lat1)\n",
    "        fc = nc.variables['FCOVER'][0,by,bx]\n",
    "        # On gère le masque par des NaN.\n",
    "        F = fc.data\n",
    "        \n",
    "        F[fc.mask] = np.nan\n",
    "    \n",
    "    return F"
   ]
  },
  {
   "cell_type": "code",
   "execution_count": 48,
   "metadata": {},
   "outputs": [],
   "source": [
    "F = nczimage(datelist[0],names[2])"
   ]
  },
  {
   "attachments": {},
   "cell_type": "markdown",
   "metadata": {},
   "source": [
    "Profitons en pour calculer la moyenne du taux de végétation sur la zone."
   ]
  },
  {
   "cell_type": "code",
   "execution_count": 49,
   "metadata": {},
   "outputs": [
    {
     "name": "stdout",
     "output_type": "stream",
     "text": [
      "Taux de couverture végétale moyen : 22.8%.\n"
     ]
    }
   ],
   "source": [
    "m = np.nanmean(F)\n",
    "print(f\"Taux de couverture végétale moyen : {100*m:.1f}%.\")"
   ]
  },
  {
   "attachments": {},
   "cell_type": "markdown",
   "metadata": {},
   "source": [
    "### 2.3 Utilisation des widgets.\n",
    "\n",
    "Le package ipywidgets permet de créer des interactions sous Jupyter."
   ]
  },
  {
   "cell_type": "code",
   "execution_count": 50,
   "metadata": {},
   "outputs": [],
   "source": [
    "import ipywidgets as widgets"
   ]
  },
  {
   "attachments": {},
   "cell_type": "markdown",
   "metadata": {},
   "source": [
    "Ecrire une fonction qui pernd en entrée une date et un nom de zone et qui affiche l'image. On utilise les calculs précédents.\n",
    "\n",
    "<mark>Complétez la fonction</mark>"
   ]
  },
  {
   "cell_type": "code",
   "execution_count": 51,
   "metadata": {},
   "outputs": [],
   "source": [
    "def nczplot(date,name):\n",
    "    F = nczimage(date,name)\n",
    "    plt.imshow(F);\n",
    "    m = np.nanmean(F)\n",
    "    plt.title(name + \" [FCOVER] le \" + date + \"avec un \" + f\"taux de couverture végétale moyen : {100*m:.1f}%.\");\n",
    "    plt.show();"
   ]
  },
  {
   "cell_type": "code",
   "execution_count": 52,
   "metadata": {},
   "outputs": [
    {
     "data": {
      "image/png": "[encoded data removed]",
      "text/plain": [
       "<Figure size 900x600 with 1 Axes>"
      ]
     },
     "metadata": {},
     "output_type": "display_data"
    }
   ],
   "source": [
    "nczplot(datelist[0],names[0])"
   ]
  },
  {
   "attachments": {},
   "cell_type": "markdown",
   "metadata": {},
   "source": [
    "L'api de ipywidgets dispose de plusieurs modes qu'ils vous faudra découvrir en regardat la doc.\n",
    "\n",
    "> [Documentation de ipywidgets](https://ipywidgets.readthedocs.io/en/stable/)"
   ]
  },
  {
   "cell_type": "code",
   "execution_count": 53,
   "metadata": {},
   "outputs": [],
   "source": [
    "import ipywidgets as widgets"
   ]
  },
  {
   "cell_type": "code",
   "execution_count": 54,
   "metadata": {},
   "outputs": [
    {
     "data": {
      "application/vnd.jupyter.widget-view+json": {
       "model_id": "f9b732113a3f49d5898f69770f63b1ac",
       "version_major": 2,
       "version_minor": 0
      },
      "text/plain": [
       "interactive(children=(Dropdown(description='date', options=('20-11-2023', '30-11-2023', '10-12-2023', '31-12-2…"
      ]
     },
     "metadata": {},
     "output_type": "display_data"
    },
    {
     "data": {
      "text/plain": [
       "<function __main__.nczplot(date, name)>"
      ]
     },
     "metadata": {},
     "output_type": "display_data"
    }
   ],
   "source": [
    "widgets_interact = widgets.interact(nczplot, date=datelist, name=names);\n",
    "display (widgets_interact);"
   ]
  },
  {
   "attachments": {},
   "cell_type": "markdown",
   "metadata": {},
   "source": [
    "Vous pouvez jouer avec les deux listes ci dessus."
   ]
  },
  {
   "attachments": {},
   "cell_type": "markdown",
   "metadata": {},
   "source": [
    "## 3. Créer le module ocli avec la classe Ocli.\n",
    "\n",
    "Ce que l'on vient de faire est un peu fouilli, on traine des variables globales comme la liste de dates, la liste de noms, le tableau des fichiers et la GeoZone. Il faudrait rassembler tout cela au sein d'une même classe bien propre. Comme les fichiers de données sont toujours les mêmes et sont stockés dans un répertoire fixe `rawdir`qui sera mis par défaut à `sat.FCOVERDIR`, on peut dériver la classe Ocli de GeoZone. \n",
    "\n",
    "_Faites attention à la documentation, aux gestions d'erreurs, etc._\n",
    "\n",
    "Créez le module ocli.py qui contient les fonctions et la classe qui va bien pour mieux gérer cet affichage. \n",
    "\n",
    "<mark> La suite de ce notebook donne un certain nombre de résultats. J'attends que votre classe renvoie la même chose. Pensez à garder une copie des résultats attendus.</mark>\n",
    "\n",
    "Vous aurez sans doute besoin de tester votre classe plusieurs fois, je vous conseille de créer un notebook séparé pour pouvoir recharger le noyau python et réexécuter le code car la fonction magique %autoreload nemarche pas très bien quand on modifie le contenu d'une classe.\n",
    "\n",
    "<mark>Si vous en êtes ici, vous n'aurez plus besoin de modifier quoi que ce soit au notebook. Il sert à présent juste à vérifier le code que vous allez programmer dans le module ocli.py.</mark>"
   ]
  },
  {
   "attachments": {},
   "cell_type": "markdown",
   "metadata": {},
   "source": [
    "### 3.1 Construire un module bien propre.\n",
    "\n",
    "Notez en passant qui est malin de rajouter quelques éléments de documentation à un module qui vont compléter les champs de base comme `__file__` ou `__doc__`."
   ]
  },
  {
   "cell_type": "code",
   "execution_count": 55,
   "metadata": {},
   "outputs": [
    {
     "name": "stdout",
     "output_type": "stream",
     "text": [
      "\n",
      "OCLI - Outil d'extraction des données Optiques.\n",
      "\n",
      "Votre travail est de construire ce module. Il correspond à la section 3\n",
      "du notebook ocli_doc.ipynb.\n",
      "J'ai quand même laissé quelques détails avec diverses explications\n",
      "pour vous aider à démarrer.\n",
      "\n",
      "@author: Jérôme Lacaille\n",
      "\n",
      "  fichier : C:\\Users\\sophi\\Desktop\\MACS2\\Analyse_de_donnee\\satellite\\ocli.py\n",
      "  date    : 2023-02-25\n",
      "  version : 1.1\n"
     ]
    }
   ],
   "source": [
    "print(sat.ocli.__doc__)\n",
    "print(\"  fichier :\", sat.ocli.__file__)\n",
    "print(\"  date    :\", sat.ocli.__date__)\n",
    "print(\"  version :\", sat.ocli.__version__)"
   ]
  },
  {
   "cell_type": "code",
   "execution_count": 56,
   "metadata": {},
   "outputs": [
    {
     "data": {
      "text/plain": [
       "'C:\\\\Users\\\\sophi\\\\Desktop\\\\MACS2\\\\Analyse_de_donnee\\\\satellite\\\\data/zones/_Earth/FCOVER/'"
      ]
     },
     "execution_count": 56,
     "metadata": {},
     "output_type": "execute_result"
    }
   ],
   "source": [
    "# Le répertoire par défaut FCOVERDIR.\n",
    "sat.FCOVERDIR"
   ]
  },
  {
   "cell_type": "code",
   "execution_count": 57,
   "metadata": {},
   "outputs": [
    {
     "data": {
      "text/html": [
       "<div>\n",
       "<style scoped>\n",
       "    .dataframe tbody tr th:only-of-type {\n",
       "        vertical-align: middle;\n",
       "    }\n",
       "\n",
       "    .dataframe tbody tr th {\n",
       "        vertical-align: top;\n",
       "    }\n",
       "\n",
       "    .dataframe thead th {\n",
       "        text-align: right;\n",
       "    }\n",
       "</style>\n",
       "<table border=\"1\" class=\"dataframe\">\n",
       "  <thead>\n",
       "    <tr style=\"text-align: right;\">\n",
       "      <th></th>\n",
       "      <th>FILE</th>\n",
       "      <th>REVISION</th>\n",
       "    </tr>\n",
       "    <tr>\n",
       "      <th>DATE</th>\n",
       "      <th></th>\n",
       "      <th></th>\n",
       "    </tr>\n",
       "  </thead>\n",
       "  <tbody>\n",
       "    <tr>\n",
       "      <th>2023-11-20</th>\n",
       "      <td>C:\\Users\\sophi\\Desktop\\MACS2\\Analyse_de_donnee...</td>\n",
       "      <td>6</td>\n",
       "    </tr>\n",
       "    <tr>\n",
       "      <th>2023-11-30</th>\n",
       "      <td>C:\\Users\\sophi\\Desktop\\MACS2\\Analyse_de_donnee...</td>\n",
       "      <td>6</td>\n",
       "    </tr>\n",
       "    <tr>\n",
       "      <th>2023-12-10</th>\n",
       "      <td>C:\\Users\\sophi\\Desktop\\MACS2\\Analyse_de_donnee...</td>\n",
       "      <td>6</td>\n",
       "    </tr>\n",
       "    <tr>\n",
       "      <th>2023-12-31</th>\n",
       "      <td>C:\\Users\\sophi\\Desktop\\MACS2\\Analyse_de_donnee...</td>\n",
       "      <td>2</td>\n",
       "    </tr>\n",
       "    <tr>\n",
       "      <th>2024-01-10</th>\n",
       "      <td>C:\\Users\\sophi\\Desktop\\MACS2\\Analyse_de_donnee...</td>\n",
       "      <td>2</td>\n",
       "    </tr>\n",
       "    <tr>\n",
       "      <th>2024-01-20</th>\n",
       "      <td>C:\\Users\\sophi\\Desktop\\MACS2\\Analyse_de_donnee...</td>\n",
       "      <td>0</td>\n",
       "    </tr>\n",
       "  </tbody>\n",
       "</table>\n",
       "</div>"
      ],
      "text/plain": [
       "                                                         FILE  REVISION\n",
       "DATE                                                                   \n",
       "2023-11-20  C:\\Users\\sophi\\Desktop\\MACS2\\Analyse_de_donnee...         6\n",
       "2023-11-30  C:\\Users\\sophi\\Desktop\\MACS2\\Analyse_de_donnee...         6\n",
       "2023-12-10  C:\\Users\\sophi\\Desktop\\MACS2\\Analyse_de_donnee...         6\n",
       "2023-12-31  C:\\Users\\sophi\\Desktop\\MACS2\\Analyse_de_donnee...         2\n",
       "2024-01-10  C:\\Users\\sophi\\Desktop\\MACS2\\Analyse_de_donnee...         2\n",
       "2024-01-20  C:\\Users\\sophi\\Desktop\\MACS2\\Analyse_de_donnee...         0"
      ]
     },
     "execution_count": 57,
     "metadata": {},
     "output_type": "execute_result"
    }
   ],
   "source": [
    "# Créer la fonction de module permettant de récupérer la table des fichiers.\n",
    "sat.ocli.getncfiles(rawdir)"
   ]
  },
  {
   "attachments": {},
   "cell_type": "markdown",
   "metadata": {},
   "source": [
    "On crée une fonction qui renvoie la table des fichiers et qui sera appelée lors de l'initialisation de la classe.\n",
    "\n",
    "Comme précédemment, la liste de zones par défaut est \"map.geojson\"."
   ]
  },
  {
   "attachments": {},
   "cell_type": "markdown",
   "metadata": {},
   "source": [
    "### 3.2 Création de l'objet Ocli.\n",
    "\n",
    "_(J'ai préparé l'instanciation de la classe, notez l'appel de  `super()` pour instancier la clase de base.)_\n",
    "\n",
    "N'oubliez pas d'exporter l'objet Ocli."
   ]
  },
  {
   "cell_type": "code",
   "execution_count": 58,
   "metadata": {},
   "outputs": [
    {
     "data": {
      "text/plain": [
       "Ocli (map.geojson) - Liste de 4 GeoZones"
      ]
     },
     "execution_count": 58,
     "metadata": {},
     "output_type": "execute_result"
    }
   ],
   "source": [
    "# On crée l'objet Ocli et on affiche son détail.\n",
    "oc = sat.Ocli()\n",
    "oc"
   ]
  },
  {
   "cell_type": "code",
   "execution_count": 59,
   "metadata": {},
   "outputs": [
    {
     "data": {
      "text/html": [
       "<div>\n",
       "<style scoped>\n",
       "    .dataframe tbody tr th:only-of-type {\n",
       "        vertical-align: middle;\n",
       "    }\n",
       "\n",
       "    .dataframe tbody tr th {\n",
       "        vertical-align: top;\n",
       "    }\n",
       "\n",
       "    .dataframe thead th {\n",
       "        text-align: right;\n",
       "    }\n",
       "</style>\n",
       "<table border=\"1\" class=\"dataframe\">\n",
       "  <thead>\n",
       "    <tr style=\"text-align: right;\">\n",
       "      <th></th>\n",
       "      <th>FILE</th>\n",
       "      <th>REVISION</th>\n",
       "    </tr>\n",
       "    <tr>\n",
       "      <th>DATE</th>\n",
       "      <th></th>\n",
       "      <th></th>\n",
       "    </tr>\n",
       "  </thead>\n",
       "  <tbody>\n",
       "    <tr>\n",
       "      <th>2023-11-20</th>\n",
       "      <td>C:\\Users\\sophi\\Desktop\\MACS2\\Analyse_de_donnee...</td>\n",
       "      <td>6</td>\n",
       "    </tr>\n",
       "    <tr>\n",
       "      <th>2023-11-30</th>\n",
       "      <td>C:\\Users\\sophi\\Desktop\\MACS2\\Analyse_de_donnee...</td>\n",
       "      <td>6</td>\n",
       "    </tr>\n",
       "    <tr>\n",
       "      <th>2023-12-10</th>\n",
       "      <td>C:\\Users\\sophi\\Desktop\\MACS2\\Analyse_de_donnee...</td>\n",
       "      <td>6</td>\n",
       "    </tr>\n",
       "    <tr>\n",
       "      <th>2023-12-31</th>\n",
       "      <td>C:\\Users\\sophi\\Desktop\\MACS2\\Analyse_de_donnee...</td>\n",
       "      <td>2</td>\n",
       "    </tr>\n",
       "    <tr>\n",
       "      <th>2024-01-10</th>\n",
       "      <td>C:\\Users\\sophi\\Desktop\\MACS2\\Analyse_de_donnee...</td>\n",
       "      <td>2</td>\n",
       "    </tr>\n",
       "    <tr>\n",
       "      <th>2024-01-20</th>\n",
       "      <td>C:\\Users\\sophi\\Desktop\\MACS2\\Analyse_de_donnee...</td>\n",
       "      <td>0</td>\n",
       "    </tr>\n",
       "  </tbody>\n",
       "</table>\n",
       "</div>"
      ],
      "text/plain": [
       "                                                         FILE  REVISION\n",
       "DATE                                                                   \n",
       "2023-11-20  C:\\Users\\sophi\\Desktop\\MACS2\\Analyse_de_donnee...         6\n",
       "2023-11-30  C:\\Users\\sophi\\Desktop\\MACS2\\Analyse_de_donnee...         6\n",
       "2023-12-10  C:\\Users\\sophi\\Desktop\\MACS2\\Analyse_de_donnee...         6\n",
       "2023-12-31  C:\\Users\\sophi\\Desktop\\MACS2\\Analyse_de_donnee...         2\n",
       "2024-01-10  C:\\Users\\sophi\\Desktop\\MACS2\\Analyse_de_donnee...         2\n",
       "2024-01-20  C:\\Users\\sophi\\Desktop\\MACS2\\Analyse_de_donnee...         0"
      ]
     },
     "execution_count": 59,
     "metadata": {},
     "output_type": "execute_result"
    }
   ],
   "source": [
    "# On a stocké la table des données à l'initialisation.\n",
    "oc.df"
   ]
  },
  {
   "cell_type": "code",
   "execution_count": 60,
   "metadata": {},
   "outputs": [
    {
     "name": "stdout",
     "output_type": "stream",
     "text": [
      "['Ile de France', 'Barcelone', 'Crete', 'Moyen Atlas']\n",
      "['20-11-2023', '30-11-2023', '10-12-2023', '31-12-2023', '10-01-2024', '20-01-2024']\n"
     ]
    }
   ],
   "source": [
    "# Toujours à l'initialisation on a préparé les listes de noms et de dates.\n",
    "print(oc.names)\n",
    "print(oc.dates)"
   ]
  },
  {
   "cell_type": "code",
   "execution_count": 61,
   "metadata": {},
   "outputs": [
    {
     "data": {
      "text/plain": [
       "'C:\\\\Users\\\\sophi\\\\Desktop\\\\MACS2\\\\Analyse_de_donnee\\\\satellite\\\\data/zones/_Earth/FCOVER/c_gls_FCOVER300-RT6_202311200000_GLOBE_OLCI_V1.1.2.nc'"
      ]
     },
     "execution_count": 61,
     "metadata": {},
     "output_type": "execute_result"
    }
   ],
   "source": [
    "# On a créé une fonction permettant de récupérer un fichier depuis sa date.\n",
    "oc.ncfilebydate(oc.dates[0])"
   ]
  },
  {
   "cell_type": "code",
   "execution_count": 62,
   "metadata": {},
   "outputs": [
    {
     "data": {
      "text/plain": [
       "[48.7535883521073, 2.0085203859495095, 48.99193420772434, 2.6788390690815334]"
      ]
     },
     "execution_count": 62,
     "metadata": {},
     "output_type": "execute_result"
    }
   ],
   "source": [
    "# Pour les coordonnées, on avait déjà fait le travail, donc la hierarchie appelle directement la foction de GeoZone.\n",
    "oc.bboxbyname(oc.names[0])"
   ]
  },
  {
   "cell_type": "code",
   "execution_count": 63,
   "metadata": {},
   "outputs": [
    {
     "name": "stdout",
     "output_type": "stream",
     "text": [
      "Ile de France\n"
     ]
    },
    {
     "data": {
      "text/plain": [
       "array([[0.328, 0.288, 0.264, ..., 0.3  , 0.124, 0.06 ],\n",
       "       [0.32 , 0.324, 0.296, ..., 0.288, 0.264, 0.164],\n",
       "       [0.292, 0.328, 0.32 , ..., 0.256, 0.32 , 0.416],\n",
       "       ...,\n",
       "       [0.264, 0.264, 0.276, ..., 0.136, 0.14 , 0.216],\n",
       "       [0.248, 0.24 , 0.344, ..., 0.192, 0.196, 0.22 ],\n",
       "       [0.3  , 0.352,   nan, ..., 0.184, 0.172, 0.228]])"
      ]
     },
     "execution_count": 63,
     "metadata": {},
     "output_type": "execute_result"
    }
   ],
   "source": [
    "# On peut récupérer le tableau de valeurs.\n",
    "print(oc.names[0])\n",
    "oc.values(oc.dates[0],oc.names[0])"
   ]
  },
  {
   "cell_type": "code",
   "execution_count": 64,
   "metadata": {},
   "outputs": [
    {
     "data": {
      "image/png": "[encoded data removed]",
      "text/plain": [
       "<Figure size 900x600 with 1 Axes>"
      ]
     },
     "metadata": {},
     "output_type": "display_data"
    }
   ],
   "source": [
    "# Une méthode plot() permet d'afficher l'image.\n",
    "oc.plot(oc.dates[0],oc.names[0])"
   ]
  },
  {
   "cell_type": "code",
   "execution_count": 65,
   "metadata": {},
   "outputs": [
    {
     "data": {
      "application/vnd.jupyter.widget-view+json": {
       "model_id": "3f4515c3c88848d6972632795be2d593",
       "version_major": 2,
       "version_minor": 0
      },
      "text/plain": [
       "interactive(children=(Dropdown(description='date', options=('20-11-2023', '30-11-2023', '10-12-2023', '31-12-2…"
      ]
     },
     "metadata": {},
     "output_type": "display_data"
    },
    {
     "data": {
      "text/plain": [
       "<function ipywidgets.widgets.interaction._InteractFactory.__call__.<locals>.<lambda>(*args, **kwargs)>"
      ]
     },
     "execution_count": 65,
     "metadata": {},
     "output_type": "execute_result"
    }
   ],
   "source": [
    "# Cette méthode peut être appelée interactivement.\n",
    "widgets.interact(oc.plot, date=oc.dates, name=oc.names)"
   ]
  },
  {
   "attachments": {},
   "cell_type": "markdown",
   "metadata": {},
   "source": [
    "Très facile : essayer maintenant de construire une méthode `iplot()` qui exécute automatiquement l'interactivité, sans avoir à passer de paramètres."
   ]
  },
  {
   "cell_type": "code",
   "execution_count": 66,
   "metadata": {},
   "outputs": [
    {
     "data": {
      "application/vnd.jupyter.widget-view+json": {
       "model_id": "46256c3ae5fe424795798748bae172f4",
       "version_major": 2,
       "version_minor": 0
      },
      "text/plain": [
       "interactive(children=(Dropdown(description='date', options=('20-11-2023', '30-11-2023', '10-12-2023', '31-12-2…"
      ]
     },
     "metadata": {},
     "output_type": "display_data"
    }
   ],
   "source": [
    "oc.iplot()"
   ]
  },
  {
   "cell_type": "code",
   "execution_count": 67,
   "metadata": {},
   "outputs": [],
   "source": [
    "oc.FCOVER('Ile de France')\n",
    "oc.FCOVER('Moyen Atlas')"
   ]
  },
  {
   "attachments": {},
   "cell_type": "markdown",
   "metadata": {},
   "source": [
    "C'est fini !\n",
    "\n",
    "_Jérôme Lacaille_"
   ]
  }
 ],
 "metadata": {
  "kernelspec": {
   "display_name": "gd39",
   "language": "python",
   "name": "python3"
  },
  "language_info": {
   "codemirror_mode": {
    "name": "ipython",
    "version": 3
   },
   "file_extension": ".py",
   "mimetype": "text/x-python",
   "name": "python",
   "nbconvert_exporter": "python",
   "pygments_lexer": "ipython3",
   "version": "3.11.7"
  },
  "orig_nbformat": 4,
  "vscode": {
   "interpreter": {
    "hash": "a6d3978fac2f94b35773b9c8291412caf0c75e33fb63611a5c71fe933d8c7105"
   }
  }
 },
 "nbformat": 4,
 "nbformat_minor": 2
}
